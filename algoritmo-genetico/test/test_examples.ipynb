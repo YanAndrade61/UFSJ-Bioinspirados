{
 "cells": [
  {
   "cell_type": "markdown",
   "metadata": {},
   "source": [
    "Configure path envirorment"
   ]
  },
  {
   "cell_type": "code",
   "execution_count": 1,
   "metadata": {},
   "outputs": [],
   "source": [
    "import sys\n",
    "import os\n",
    "sys.path.append(os.getcwd()[:-4])"
   ]
  },
  {
   "cell_type": "markdown",
   "metadata": {},
   "source": [
    "Import Libraries"
   ]
  },
  {
   "cell_type": "code",
   "execution_count": 2,
   "metadata": {},
   "outputs": [],
   "source": [
    "import numpy as np\n",
    "from examples.binary_function_otimizer import BinaryFunctionOtimizer\n",
    "from src.crossover.one_point_crossover import OnePointCrossover\n",
    "from src.mutation.position_mutation import PositionMutation\n",
    "from src.selection.tournament_selection import TournamentSelection\n",
    "\n",
    "#For plot\n",
    "#import plotly.graph_objects as go"
   ]
  },
  {
   "cell_type": "markdown",
   "metadata": {},
   "source": [
    "Function to minimize"
   ]
  },
  {
   "cell_type": "code",
   "execution_count": 3,
   "metadata": {},
   "outputs": [],
   "source": [
    "fn = lambda x: - 20*np.exp(-0.2*np.sqrt(np.mean(np.square(x))))\\\n",
    "                - np.exp(np.mean(np.cos(2*np.pi*x)))\\\n",
    "                + 20 + np.e"
   ]
  },
  {
   "cell_type": "code",
   "execution_count": 4,
   "metadata": {},
   "outputs": [
    {
     "ename": "NameError",
     "evalue": "name 'go' is not defined",
     "output_type": "error",
     "traceback": [
      "\u001b[0;31m---------------------------------------------------------------------------\u001b[0m",
      "\u001b[0;31mNameError\u001b[0m                                 Traceback (most recent call last)",
      "Cell \u001b[0;32mIn[4], line 9\u001b[0m\n\u001b[1;32m      6\u001b[0m     \u001b[38;5;28;01mfor\u001b[39;00m j \u001b[38;5;129;01min\u001b[39;00m \u001b[38;5;28mrange\u001b[39m(X\u001b[38;5;241m.\u001b[39mshape[\u001b[38;5;241m1\u001b[39m]):\n\u001b[1;32m      7\u001b[0m         Z[i][j] \u001b[38;5;241m=\u001b[39m fn(np\u001b[38;5;241m.\u001b[39marray([X[i][j], Y[i][j]]))\n\u001b[0;32m----> 9\u001b[0m fig \u001b[38;5;241m=\u001b[39m \u001b[43mgo\u001b[49m\u001b[38;5;241m.\u001b[39mFigure(data\u001b[38;5;241m=\u001b[39m[go\u001b[38;5;241m.\u001b[39mSurface(\n\u001b[1;32m     10\u001b[0m     x\u001b[38;5;241m=\u001b[39mX,\n\u001b[1;32m     11\u001b[0m     y\u001b[38;5;241m=\u001b[39mY,\n\u001b[1;32m     12\u001b[0m     z\u001b[38;5;241m=\u001b[39mZ,\n\u001b[1;32m     13\u001b[0m     colorscale\u001b[38;5;241m=\u001b[39m\u001b[38;5;124m'\u001b[39m\u001b[38;5;124mviridis\u001b[39m\u001b[38;5;124m'\u001b[39m\n\u001b[1;32m     14\u001b[0m )])\n\u001b[1;32m     16\u001b[0m fig\u001b[38;5;241m.\u001b[39mupdate_layout(\n\u001b[1;32m     17\u001b[0m     title\u001b[38;5;241m=\u001b[39m\u001b[38;5;124m'\u001b[39m\u001b[38;5;124mFunção no Espaço 3D\u001b[39m\u001b[38;5;124m'\u001b[39m,\n\u001b[1;32m     18\u001b[0m     xaxis_title\u001b[38;5;241m=\u001b[39m\u001b[38;5;124m'\u001b[39m\u001b[38;5;124mEixo X\u001b[39m\u001b[38;5;124m'\u001b[39m,\n\u001b[1;32m     19\u001b[0m     yaxis_title\u001b[38;5;241m=\u001b[39m\u001b[38;5;124m'\u001b[39m\u001b[38;5;124mEixo Y\u001b[39m\u001b[38;5;124m'\u001b[39m,\n\u001b[1;32m     20\u001b[0m     zaxis_title\u001b[38;5;241m=\u001b[39m\u001b[38;5;124m'\u001b[39m\u001b[38;5;124mEixo Z\u001b[39m\u001b[38;5;124m'\u001b[39m,\n\u001b[1;32m     21\u001b[0m )\n\u001b[1;32m     23\u001b[0m fig\u001b[38;5;241m.\u001b[39mshow()\n",
      "\u001b[0;31mNameError\u001b[0m: name 'go' is not defined"
     ]
    }
   ],
   "source": [
    "x = np.linspace(-6, 6, 30)\n",
    "y = np.linspace(-6, 6, 30)\n",
    "X, Y = np.meshgrid(x, y)\n",
    "Z = np.copy(X)\n",
    "for i in range(X.shape[0]):\n",
    "    for j in range(X.shape[1]):\n",
    "        Z[i][j] = fn(np.array([X[i][j], Y[i][j]]))\n",
    "\n",
    "fig = go.Figure(data=[go.Surface(\n",
    "    x=X,\n",
    "    y=Y,\n",
    "    z=Z,\n",
    "    colorscale='viridis'\n",
    ")])\n",
    "\n",
    "fig.update_layout(\n",
    "    title='Função no Espaço 3D',\n",
    "    xaxis_title='Eixo X',\n",
    "    yaxis_title='Eixo Y',\n",
    "    zaxis_title='Eixo Z',\n",
    ")\n",
    "\n",
    "fig.show()"
   ]
  },
  {
   "cell_type": "markdown",
   "metadata": {},
   "source": [
    "Creating a model of genetic algorithm with 3 variables each with 6 bits"
   ]
  },
  {
   "cell_type": "code",
   "execution_count": 4,
   "metadata": {},
   "outputs": [],
   "source": [
    "model = BinaryFunctionOtimizer(n_individuals= 50, n_genes= 18, n_bits= 6,\n",
    "                               n_generations=50,min_value=-1,max_value=1,\n",
    "                               otimizer= np.argmin, function= fn)\n",
    "model.set_selection(TournamentSelection())\n",
    "model.set_crossover(OnePointCrossover())\n",
    "model.set_mutation(PositionMutation())"
   ]
  },
  {
   "cell_type": "code",
   "execution_count": 5,
   "metadata": {},
   "outputs": [
    {
     "name": "stdout",
     "output_type": "stream",
     "text": [
      "Geracao 0: 2.152140300854733\n",
      "Geracao 1: 2.152140300854733\n",
      "Geracao 2: 1.2369431624703933\n",
      "Geracao 3: 0.524587827281604\n",
      "Geracao 4: 0.524587827281604\n",
      "Geracao 5: 0.524587827281604\n",
      "Geracao 6: 0.524587827281604\n",
      "Geracao 7: 0.524587827281604\n",
      "Geracao 8: 0.524587827281604\n",
      "Geracao 9: 0.524587827281604\n",
      "Geracao 10: 0.1700259814585796\n",
      "Geracao 11: 0.1700259814585796\n",
      "Geracao 12: 0.1700259814585796\n",
      "Geracao 13: 0.1700259814585796\n",
      "Geracao 14: 0.1700259814585796\n",
      "Geracao 15: 0.07686563601974372\n",
      "Geracao 16: 0.07686563601974372\n",
      "Geracao 17: 0.07686563601974372\n",
      "Geracao 18: 0.07686563601974372\n",
      "Geracao 19: 0.07686563601974372\n",
      "Geracao 20: 0.07686563601974372\n",
      "Geracao 21: 0.07686563601974372\n",
      "Geracao 22: 0.07686563601974372\n",
      "Geracao 23: 0.07686563601974372\n",
      "Geracao 24: 0.07686563601974372\n",
      "Geracao 25: 0.07686563601974372\n",
      "Geracao 26: 0.07686563601974372\n",
      "Geracao 27: 0.07686563601974372\n",
      "Geracao 28: 0.07686563601974372\n",
      "Geracao 29: 0.07686563601974372\n",
      "Geracao 30: 0.07686563601974372\n",
      "Geracao 31: 0.07686563601974372\n",
      "Geracao 32: 0.07686563601974372\n",
      "Geracao 33: 0.07686563601974372\n",
      "Geracao 34: 0.07686563601974372\n",
      "Geracao 35: 0.07686563601974372\n",
      "Geracao 36: 0.07686563601974372\n",
      "Geracao 37: 0.07686563601974372\n",
      "Geracao 38: 0.07686563601974372\n",
      "Geracao 39: 0.07686563601974372\n",
      "Geracao 40: 0.07686563601974372\n",
      "Geracao 41: 0.07686563601974372\n",
      "Geracao 42: 0.07686563601974372\n",
      "Geracao 43: 0.07686563601974372\n",
      "Geracao 44: 0.07686563601974372\n",
      "Geracao 45: 0.07686563601974372\n",
      "Geracao 46: 0.07686563601974372\n",
      "Geracao 47: 0.07686563601974372\n",
      "Geracao 48: 0.07686563601974372\n",
      "Geracao 49: 0.07686563601974372\n"
     ]
    },
    {
     "ename": "AttributeError",
     "evalue": "'BinaryFunctionOtimizer' object has no attribute 'binary2value'",
     "output_type": "error",
     "traceback": [
      "\u001b[0;31m---------------------------------------------------------------------------\u001b[0m",
      "\u001b[0;31mAttributeError\u001b[0m                            Traceback (most recent call last)",
      "Cell \u001b[0;32mIn[5], line 2\u001b[0m\n\u001b[1;32m      1\u001b[0m best_individual \u001b[38;5;241m=\u001b[39m model\u001b[38;5;241m.\u001b[39msimulate(verbose\u001b[38;5;241m=\u001b[39m \u001b[38;5;28;01mTrue\u001b[39;00m)\n\u001b[0;32m----> 2\u001b[0m \u001b[43mmodel\u001b[49m\u001b[38;5;241;43m.\u001b[39;49m\u001b[43mbinary2value\u001b[49m([best_individual])\n",
      "\u001b[0;31mAttributeError\u001b[0m: 'BinaryFunctionOtimizer' object has no attribute 'binary2value'"
     ]
    }
   ],
   "source": [
    "best_individual = model.simulate(verbose= True)\n",
    "model.binary2value([best_individual])"
   ]
  }
 ],
 "metadata": {
  "kernelspec": {
   "display_name": "Python 3",
   "language": "python",
   "name": "python3"
  },
  "language_info": {
   "codemirror_mode": {
    "name": "ipython",
    "version": 3
   },
   "file_extension": ".py",
   "mimetype": "text/x-python",
   "name": "python",
   "nbconvert_exporter": "python",
   "pygments_lexer": "ipython3",
   "version": "3.11.5"
  }
 },
 "nbformat": 4,
 "nbformat_minor": 2
}
